{
 "cells": [
  {
   "cell_type": "markdown",
   "id": "2e2926e4f84c1c16",
   "metadata": {},
   "source": []
  },
  {
   "cell_type": "markdown",
   "id": "e098307a30feca7b",
   "metadata": {},
   "source": [
    "1. 引入依赖"
   ]
  },
  {
   "cell_type": "code",
   "execution_count": null,
   "id": "45a8c6275be650ff",
   "metadata": {
    "ExecuteTime": {
     "end_time": "2024-09-02T05:30:29.325129Z",
     "start_time": "2024-09-02T05:30:29.313446Z"
    }
   },
   "outputs": [],
   "source": [
    "import sys\n",
    "import os\n",
    "# Assuming your project root is the parent directory of the current file\n",
    "sys.path.append(os.path.abspath('/home/syb/projects/mymodel'))\n",
    "import torch\n",
    "from src.utils.config import GlobalConfig\n",
    "from src.models.inr_model import INRModel\n",
    "from src.train import train_inr\n"
   ]
  },
  {
   "cell_type": "code",
   "execution_count": null,
   "id": "534599acc810c25a",
   "metadata": {
    "ExecuteTime": {
     "end_time": "2024-09-02T05:31:16.418203100Z",
     "start_time": "2024-09-02T05:30:31.551443Z"
    }
   },
   "outputs": [],
   "source": [
    "# 读取TOML文件\n",
    "device = torch.device('cuda' if torch.cuda.is_available() else 'cpu')\n",
    "global_config = GlobalConfig()\n",
    "model_config = global_config.model_config\n",
    "train_config = global_config.train_config\n",
    "save_config = global_config.save_config\n",
    "inr_model = INRModel(in_features=model_config.in_features, hidden_features=model_config.hidden_features,hidden_layers=model_config.hidden_layers, out_features=model_config.out_features)\n",
    "trained_inr_model = train_inr(model=inr_model,device=device,config=train_config)"
   ]
  },
  {
   "cell_type": "code",
   "execution_count": null,
   "id": "a0cb933e1be5da7f",
   "metadata": {},
   "outputs": [],
   "source": [
    "# 保存模型\n",
    "torch.save(trained_inr_model.state_dict(), save_config.model_save_path)"
   ]
  },
  {
   "cell_type": "code",
   "execution_count": null,
   "id": "9ce643289fae32b9",
   "metadata": {},
   "outputs": [],
   "source": [
    "from src.decompress import decompress\n",
    "from PIL import Image\n",
    "import numpy as np\n",
    "# Load and preprocess the image\n",
    "img = Image.open(train_config.image_path).convert('RGB')\n",
    "img_np = np.array(img) / 255.0\n",
    "# Create coordinate grid\n",
    "h, w, _ = img_np.shape\n",
    "decompress(save_config.model_save_path, save_config.image_save_path, (w,h))"
   ]
  },
  {
   "cell_type": "code",
   "execution_count": 3,
   "id": "0b17ea52-4e27-4f0f-9ae0-469c1bfc169c",
   "metadata": {},
   "outputs": [
    {
     "name": "stdout",
     "output_type": "stream",
     "text": [
      "torch.Size([2250000, 2])\n"
     ]
    }
   ],
   "source": [
    "    # Create coordinate grid\n",
    "import torch\n",
    "device = \"cpu\"\n",
    "    h = 1500\n",
    "    w = 1500\n",
    "    x = torch.linspace(0, 1, w, device=device)\n",
    "    y = torch.linspace(0, 1, h, device=device)\n",
    "    xx, yy = torch.meshgrid(x, y, indexing='ij')  # 使用 'ij' 索引来匹配图像坐标系\n",
    "    coords = torch.stack([xx.flatten(), yy.flatten()], dim=-1)\n",
    "print(x.shape)\n",
    "print(y.shape)\n",
    "print(xx.shape)\n",
    "print(yy.shape)\n",
    "print(coords.shape)"
   ]
  },
  {
   "cell_type": "code",
   "execution_count": null,
   "id": "e3f02aa9-ce12-433b-a863-8c434467c3fa",
   "metadata": {},
   "outputs": [],
   "source": []
  }
 ],
 "metadata": {
  "kernelspec": {
   "display_name": "Python 3 (ipykernel)",
   "language": "python",
   "name": "python3"
  },
  "language_info": {
   "codemirror_mode": {
    "name": "ipython",
    "version": 3
   },
   "file_extension": ".py",
   "mimetype": "text/x-python",
   "name": "python",
   "nbconvert_exporter": "python",
   "pygments_lexer": "ipython3",
   "version": "3.10.14"
  }
 },
 "nbformat": 4,
 "nbformat_minor": 5
}
